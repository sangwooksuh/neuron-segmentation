{
 "cells": [
  {
   "cell_type": "code",
   "execution_count": 38,
   "id": "6ee87f33",
   "metadata": {},
   "outputs": [],
   "source": [
    "import argparse\n",
    "import itertools\n",
    "import numpy as np\n",
    "from conn import *\n",
    "from morph import *\n",
    "from utils import *\n",
    "\n",
    "\n",
    "def get_args():\n",
    "    \n",
    "    parser = argparse.ArgumentParser(\n",
    "        description='Neuron segmentations in 2pFLIM as binary masks'\n",
    "    )\n",
    "    parser.add_argument( \n",
    "        \"path\", type=str,\n",
    "        help=\"path to directory that contains 'intensity' and 'lifetime'\"\n",
    "    )\n",
    "    parser.add_argument(\n",
    "        \"-n\", \"--neurons\", default=1, type=int, required=False,\n",
    "        help=\"number of neurons in video, default 1\",\n",
    "        metavar=''\n",
    "    )\n",
    "    parser.add_argument(\n",
    "        \"-t\", \"--threshold\", default=1, type=int, required=False,\n",
    "        help=\"threshold value for loading frames as binary images \\\n",
    "        (default 1: pixel values are scaled to zero mean and unit variance)\",\n",
    "        metavar=''\n",
    "    )\n",
    "#     parser.add_argument(\n",
    "#         \"-e\", \"--evaluate\", default=False, type=bool, required=False,\n",
    "#         help=\"get intersection over union score compared with ground truth\",\n",
    "#         metavar=''\n",
    "#     )\n",
    "    \n",
    "    return parser.parse_args()\n",
    "\n",
    "\n",
    "def solve_kernel(frame, neurons=1):\n",
    "    # frame := (intensity[i], gray[i], red[i], green[i], blue[i])\n",
    "    \n",
    "    intersections = [np.logical_and(*pair) for pair in itertools.combinations(frame, 2)]\n",
    "    union = np.logical_or.reduce(intersections)\n",
    "    \n",
    "    return closing(fillHoles(nLargestCC(erode(union), neurons)))\n",
    "\n",
    "\n",
    "\n",
    "def solve(data, neurons=1):\n",
    "    \n",
    "    print('Segmenting neurons ...')\n",
    "    solutions = [solve_kernel(frame, neurons) for frame in zip(*data)]\n",
    "    print('Segmentation finished!')\n",
    "    \n",
    "    return solutions\n",
    "\n",
    "\n",
    "def run(path, neurons=1, threshold=1):\n",
    "   \n",
    "    data = load_data(path, threshold)\n",
    "    print('')\n",
    "    solutions = solve(data, neurons)\n",
    "    print('')\n",
    "    save_video(path, solutions)\n",
    "\n",
    "\n",
    "def main():\n",
    "    \n",
    "    #args = get_args()\n",
    "    #run(args.path, args.neurons, args.threshold)\n",
    "    run('./data/medium', 2, 1)\n",
    "\n",
    "    \n",
    "# if __name__==\"__main__\":\n",
    "#     main()"
   ]
  },
  {
   "cell_type": "code",
   "execution_count": 39,
   "id": "fe6c96cf",
   "metadata": {},
   "outputs": [
    {
     "name": "stdout",
     "output_type": "stream",
     "text": [
      "Loading data ...\n",
      "Loading complete!\n",
      "\n",
      "Segmenting neurons ...\n",
      "Segmentation finished!\n",
      "\n",
      "Solution saved at ./data/medium/solutions/\n"
     ]
    }
   ],
   "source": [
    "main()"
   ]
  },
  {
   "cell_type": "code",
   "execution_count": 15,
   "id": "044de3a6",
   "metadata": {},
   "outputs": [],
   "source": [
    "import sys"
   ]
  },
  {
   "cell_type": "code",
   "execution_count": 23,
   "id": "9c1701f8",
   "metadata": {},
   "outputs": [
    {
     "data": {
      "text/plain": [
       "10000"
      ]
     },
     "execution_count": 23,
     "metadata": {},
     "output_type": "execute_result"
    }
   ],
   "source": [
    "sys.getrecursionlimit()"
   ]
  },
  {
   "cell_type": "code",
   "execution_count": 32,
   "id": "95e57112",
   "metadata": {},
   "outputs": [],
   "source": [
    "sys.setrecursionlimit(1000000)"
   ]
  },
  {
   "cell_type": "code",
   "execution_count": null,
   "id": "c5a84303",
   "metadata": {},
   "outputs": [],
   "source": []
  }
 ],
 "metadata": {
  "kernelspec": {
   "display_name": "Python 3 (ipykernel)",
   "language": "python",
   "name": "python3"
  },
  "language_info": {
   "codemirror_mode": {
    "name": "ipython",
    "version": 3
   },
   "file_extension": ".py",
   "mimetype": "text/x-python",
   "name": "python",
   "nbconvert_exporter": "python",
   "pygments_lexer": "ipython3",
   "version": "3.11.5"
  }
 },
 "nbformat": 4,
 "nbformat_minor": 5
}
