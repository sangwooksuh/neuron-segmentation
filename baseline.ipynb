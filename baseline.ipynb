{
 "cells": [
  {
   "cell_type": "code",
   "execution_count": 96,
   "id": "6f6dd5d3",
   "metadata": {},
   "outputs": [],
   "source": [
    "import os\n",
    "# import sys  ## (for CLI args) or import argparse\n",
    "import numpy as np\n",
    "import itertools\n",
    "from PIL import Image\n",
    "from natsort import natsorted\n",
    "from morph import *\n",
    "from conn import *"
   ]
  },
  {
   "cell_type": "code",
   "execution_count": 72,
   "id": "b7c4b501",
   "metadata": {},
   "outputs": [],
   "source": [
    "MEDIUM = './data/medium/'\n",
    "HARD = './data/hard/'\n",
    "TRUTH = 'ground truth/'\n",
    "\n",
    "args = ['baseline.py', EASY, '1']\n",
    "arr = np.array([[1,2,3],[4,5,6],[7,8,9]])"
   ]
  },
  {
   "cell_type": "markdown",
   "id": "6b9ca566",
   "metadata": {},
   "source": [
    "# Baseline Algorithm\n",
    "\n",
    "Input: intensity video (path to parent directory), number of neurons (n)\n",
    "\n",
    "Algorithm:\n",
    "\n",
    "1. Scale intensity video to mean 0, unit variance\n",
    "2. Threshold intensity at 1\n",
    "3. Take the n largest components\n",
    "3. Save result as solution\n",
    "\n",
    "Output: solution in the parent directory of the intensity video"
   ]
  },
  {
   "cell_type": "code",
   "execution_count": 86,
   "id": "6c3bd908",
   "metadata": {},
   "outputs": [],
   "source": [
    "def load_video(path): \n",
    "    ## Load PNGs in path as array\n",
    "    #\n",
    "    ## Input\n",
    "    #    path: String, path to directory that contains videos as a collection of PNGs\n",
    "    ## Output\n",
    "    #    A Numpy array containing each frame as a numpy image\n",
    "    #\n",
    "    ## Note:\n",
    "    #    Border cropping hardcoded to match given data.\n",
    "    #    Rows 40-199 & Columns 114-273 contain the image.\n",
    "    #    Index by [40:200, 114:274]\n",
    "    #\n",
    "    ## TODO: Automate border cropping\n",
    "    \n",
    "    return np.array([\n",
    "        np.asarray(Image.open(path+file))[40:200,114:274] \\\n",
    "         for file in natsorted(os.listdir(path)) \\\n",
    "         if file.endswith('.png')\n",
    "    ])\n",
    "\n",
    "\n",
    "def load_solutions(path): \n",
    "    ## Load PNGs in path as array\n",
    "    #\n",
    "    ## Input\n",
    "    #    path: String, path to directory that contains videos as a collection of PNGs\n",
    "    ## Output\n",
    "    #    A Numpy array containing each frame as a numpy image\n",
    "    \n",
    "    return np.array([\n",
    "        np.asarray(Image.open(path+file)) \\\n",
    "         for file in natsorted(os.listdir(path)) \\\n",
    "         if file.endswith('.png')\n",
    "    ])\n",
    "\n",
    "\n",
    "def scale(arr):\n",
    "    ## Scales all values in 2D array to \n",
    "    #  remove mean and scale to unit variance.\n",
    "    #\n",
    "    ## Input: \n",
    "    #   arr: 2D array\n",
    "    ## Output:\n",
    "    #   Input normalized to mean 0 & std dev 1\n",
    "    \n",
    "    return (arr - np.mean(arr)) / np.std(arr)\n",
    "\n",
    "\n",
    "def sumChannels(img):\n",
    "    ## Convert image with multiple channels into one channel \n",
    "    #  (grayscale) by getting the sum of value accross all channels.\n",
    "    #\n",
    "    ## Input: \n",
    "    #   img: 2D array of pixels, \n",
    "    #        which each pixel is an array of multiple channels\n",
    "    ## Output:\n",
    "    #   Image converted to grayscale by merging channels\n",
    "    \n",
    "    return np.sum(img, axis=2)\n",
    "\n",
    "\n",
    "def getChannel(img, channel):\n",
    "    ## Extract one channel in image with multiple channels.\n",
    "    #\n",
    "    ## Input: \n",
    "    #   img: 2D Numpy array of pixels, \n",
    "    #        which each pixel is an array of multiple channels\n",
    "    #   channel: int\n",
    "    #       0: Red\n",
    "    #       1: Green\n",
    "    #       2: Blue\n",
    "    ## Output:\n",
    "    #   Image with channel extracetd\n",
    "    \n",
    "    return img[:,:,channel]    \n",
    "    \n",
    "\n",
    "def load_intensity(path, threshold=1):\n",
    "    ## Load intensity images given a path, normalize values\n",
    "    #  to zero mean and unit variance, convert to binary.\n",
    "    #\n",
    "    # Input:\n",
    "    #    path: path to where the 'intensity' directory is\n",
    "    #    treshold: threshold convert image to binary\n",
    "            \n",
    "    intensity = [scale(sumChannels(img)) >= threshold \n",
    "                 for img in load_video(path + 'intensities/')]\n",
    "    \n",
    "    return intensity\n",
    "\n",
    "\n",
    "def save_video(path, video):\n",
    "    \n",
    "    print('Saving solution ..')\n",
    "    \n",
    "    i = 0\n",
    "    save_path = os.path.join(path,'solutions/')\n",
    "    if not os.path.exists(save_path):\n",
    "        os.mkdir(save_path)\n",
    "    \n",
    "    for frame in video:\n",
    "        i += 1\n",
    "        Image.fromarray(frame).save(save_path+str(i)+'.png')\n",
    "        \n",
    "    print('Solution saved at '+save_path)"
   ]
  },
  {
   "cell_type": "code",
   "execution_count": 81,
   "id": "1f3b1379",
   "metadata": {},
   "outputs": [],
   "source": [
    "def processFrame(intensity, num_cc=1):\n",
    "    \n",
    "    return nLargestCC(intensity,num_cc)"
   ]
  },
  {
   "cell_type": "code",
   "execution_count": 87,
   "id": "526a6d33",
   "metadata": {},
   "outputs": [],
   "source": [
    "def solve(path, num_cc=1, threshold=1):\n",
    "    \n",
    "    intensities = load_intensity(path, threshold)\n",
    "    \n",
    "    solutions = []\n",
    "    i = 0\n",
    "    \n",
    "    print('')\n",
    "    print('Starting solve:')\n",
    "    for intensity in intensities:\n",
    "        \n",
    "        i+=1\n",
    "        solutions.append(processFrame(intensity, num_cc))\n",
    "        \n",
    "        if i%5==0:\n",
    "            print('\\tFrame {:2} processed'.format(i))\n",
    "        \n",
    "    print('Solve finished!')\n",
    "    \n",
    "    print('')\n",
    "    save_video(path, solutions)"
   ]
  },
  {
   "cell_type": "code",
   "execution_count": 6,
   "id": "b1f46730",
   "metadata": {},
   "outputs": [],
   "source": [
    "intensities = load_intensity(EASY)"
   ]
  },
  {
   "cell_type": "code",
   "execution_count": 7,
   "id": "909d4881",
   "metadata": {},
   "outputs": [
    {
     "data": {
      "image/jpeg": "[encoded data removed]",
      "image/png": "[encoded data removed]",
      "text/plain": [
       "<PIL.Image.Image image mode=1 size=160x160>"
      ]
     },
     "metadata": {},
     "output_type": "display_data"
    }
   ],
   "source": [
    "display(Image.fromarray(closing(nLargestCC(opening(intensities[0],4)),1)))"
   ]
  },
  {
   "cell_type": "code",
   "execution_count": 28,
   "id": "35960f7e",
   "metadata": {},
   "outputs": [],
   "source": [
    "proc = closing(nLargestCC(opening(intensities[0],4)),26)"
   ]
  },
  {
   "cell_type": "code",
   "execution_count": 10,
   "id": "75dc63f1",
   "metadata": {},
   "outputs": [],
   "source": [
    "truth = [sumChannels(img).astype(bool) for img in load_video(EASY+'ground truth/')]"
   ]
  },
  {
   "cell_type": "code",
   "execution_count": 12,
   "id": "5a307909",
   "metadata": {},
   "outputs": [
    {
     "data": {
      "image/jpeg": "[encoded data removed]",
      "image/png": "[encoded data removed]",
      "text/plain": [
       "<PIL.Image.Image image mode=1 size=160x160>"
      ]
     },
     "metadata": {},
     "output_type": "display_data"
    }
   ],
   "source": [
    "display(Image.fromarray(truth[0]))"
   ]
  },
  {
   "cell_type": "code",
   "execution_count": 29,
   "id": "b7b690aa",
   "metadata": {},
   "outputs": [
    {
     "data": {
      "text/plain": [
       "0.5272794860073643"
      ]
     },
     "execution_count": 29,
     "metadata": {},
     "output_type": "execute_result"
    }
   ],
   "source": [
    "np.sum(proc & truth)/np.sum(proc | truth)"
   ]
  },
  {
   "cell_type": "code",
   "execution_count": 121,
   "id": "848f1598",
   "metadata": {},
   "outputs": [
    {
     "name": "stdout",
     "output_type": "stream",
     "text": [
      "\n",
      "Starting solve:\n",
      "\tFrame  5 processed\n",
      "\tFrame 10 processed\n",
      "\tFrame 15 processed\n",
      "\tFrame 20 processed\n",
      "\tFrame 25 processed\n",
      "\tFrame 30 processed\n",
      "Solve finished!\n",
      "\n",
      "Saving solution ..\n",
      "Solution saved at ./data/hard/solutions/\n"
     ]
    }
   ],
   "source": [
    "solve(HARD, 2)"
   ]
  },
  {
   "cell_type": "code",
   "execution_count": 37,
   "id": "d3445a52",
   "metadata": {},
   "outputs": [],
   "source": [
    "solutions = load_solutions(EASY+'solutions/')"
   ]
  },
  {
   "cell_type": "code",
   "execution_count": 39,
   "id": "442c0000",
   "metadata": {},
   "outputs": [
    {
     "data": {
      "image/jpeg": "[encoded data removed]",
      "image/png": "[encoded data removed]",
      "text/plain": [
       "<PIL.Image.Image image mode=1 size=160x160>"
      ]
     },
     "execution_count": 39,
     "metadata": {},
     "output_type": "execute_result"
    }
   ],
   "source": [
    "Image.fromarray(solutions[0])"
   ]
  },
  {
   "cell_type": "code",
   "execution_count": 47,
   "id": "a0e6f571",
   "metadata": {},
   "outputs": [],
   "source": [
    "def evaluate(path, k=5):\n",
    "    \n",
    "    print('Evaluation:')\n",
    "    truths = [sumChannels(img).astype(bool) for img in load_video(path+'ground truth/')]\n",
    "    \n",
    "    solutions = load_solutions(path+'solutions/')\n",
    "    \n",
    "    scores = 0\n",
    "    \n",
    "    i=0\n",
    "    \n",
    "    for truth, solution in zip(truths, solutions):\n",
    "        \n",
    "        i += 1\n",
    "        scores += (score := np.sum(truth & solution)/np.sum(truth | solution))\n",
    "        \n",
    "        if i%k==1:\n",
    "            print('\\tFrame {:2} processed with score {:0.3f}'.format(i, score))\n",
    "            \n",
    "            \n",
    "    print('Average Accuracy: {:0.3f}'.format(scores/len(solutions)))\n",
    "        "
   ]
  },
  {
   "cell_type": "code",
   "execution_count": 77,
   "id": "60cff91b",
   "metadata": {},
   "outputs": [
    {
     "name": "stdout",
     "output_type": "stream",
     "text": [
      "Evaluation:\n",
      "\tFrame  1 processed with score 0.297\n",
      "\tFrame  6 processed with score 0.327\n",
      "\tFrame 11 processed with score 0.327\n",
      "\tFrame 16 processed with score 0.368\n",
      "\tFrame 21 processed with score 0.381\n",
      "\tFrame 26 processed with score 0.356\n",
      "\tFrame 31 processed with score 0.331\n",
      "Average Accuracy: 0.336\n"
     ]
    }
   ],
   "source": [
    "evaluate()"
   ]
  },
  {
   "cell_type": "code",
   "execution_count": 65,
   "id": "b727c2e4",
   "metadata": {},
   "outputs": [
    {
     "data": {
      "text/plain": [
       "array([[ True,  True,  True,  True,  True,  True,  True,  True,  True],\n",
       "       [ True, False, False, False, False, False, False, False,  True],\n",
       "       [ True, False, False, False, False, False, False, False,  True],\n",
       "       [ True, False, False, False, False, False, False, False,  True],\n",
       "       [ True, False, False, False, False, False, False, False,  True],\n",
       "       [ True,  True,  True,  True,  True,  True,  True,  True,  True]])"
      ]
     },
     "execution_count": 65,
     "metadata": {},
     "output_type": "execute_result"
    }
   ],
   "source": [
    "erode(dilate(np.array([\n",
    "    [1,1,1,1,1,1,1,1,1],\n",
    "    [1,0,0,0,0,0,0,0,1],\n",
    "    [1,0,0,0,0,0,0,0,1],\n",
    "    [1,0,0,0,0,0,0,0,1],\n",
    "    [1,0,0,0,0,0,0,0,1],\n",
    "    [1,1,1,1,1,1,1,1,1]\n",
    "])))"
   ]
  },
  {
   "cell_type": "code",
   "execution_count": 103,
   "id": "c8aed4b1",
   "metadata": {},
   "outputs": [
    {
     "data": {
      "text/plain": [
       "array([[ True,  True],\n",
       "       [ True,  True]])"
      ]
     },
     "execution_count": 103,
     "metadata": {},
     "output_type": "execute_result"
    }
   ],
   "source": [
    "np.logical_or.reduce([np.logical_and(i, j) for i, j in itertools.combinations(x,2)])"
   ]
  },
  {
   "cell_type": "code",
   "execution_count": 109,
   "id": "23a5a539",
   "metadata": {},
   "outputs": [],
   "source": [
    "import itertools"
   ]
  },
  {
   "cell_type": "code",
   "execution_count": 105,
   "id": "b78535c6",
   "metadata": {},
   "outputs": [],
   "source": [
    "def foo():\n",
    "    a = [1,2,3,4,5]\n",
    "    b = [2,4,6,8,10]\n",
    "    c = [5,4,3,2,1]\n",
    "    return a, b, c"
   ]
  },
  {
   "cell_type": "code",
   "execution_count": 113,
   "id": "72c0d527",
   "metadata": {},
   "outputs": [
    {
     "name": "stdout",
     "output_type": "stream",
     "text": [
      "[(1, 2), (1, 5), (2, 5)]\n",
      "[(2, 4), (2, 4), (4, 4)]\n",
      "[(3, 6), (3, 3), (6, 3)]\n",
      "[(4, 8), (4, 2), (8, 2)]\n",
      "[(5, 10), (5, 1), (10, 1)]\n"
     ]
    }
   ],
   "source": [
    "bar = foo()\n",
    "\n",
    "for i in zip(*bar):\n",
    "    print(list(itertools.combinations(i, 2)))"
   ]
  },
  {
   "cell_type": "code",
   "execution_count": 115,
   "id": "69f9e045",
   "metadata": {},
   "outputs": [
    {
     "data": {
      "text/plain": [
       "6"
      ]
     },
     "execution_count": 115,
     "metadata": {},
     "output_type": "execute_result"
    }
   ],
   "source": [
    "def foo(a,b,c):\n",
    "    return a+b+c\n",
    "\n",
    "x = (1,2,3)\n",
    "\n",
    "foo(*x)"
   ]
  },
  {
   "cell_type": "code",
   "execution_count": 116,
   "id": "e2961a20",
   "metadata": {},
   "outputs": [],
   "source": [
    "a = np.array([[True, True], [True, False]])\n",
    "b = np.array([[True, False], [True, False]])\n",
    "c = np.array([[True, False], [True, True]])\n",
    "d = np.array([[True, True], [True, True]])\n",
    "x = [a,b,c,d]"
   ]
  },
  {
   "cell_type": "code",
   "execution_count": 118,
   "id": "6ddce827",
   "metadata": {},
   "outputs": [
    {
     "data": {
      "text/plain": [
       "[array([[ True, False],\n",
       "        [ True, False]]),\n",
       " array([[ True, False],\n",
       "        [ True, False]]),\n",
       " array([[ True,  True],\n",
       "        [ True, False]]),\n",
       " array([[ True, False],\n",
       "        [ True, False]]),\n",
       " array([[ True, False],\n",
       "        [ True, False]]),\n",
       " array([[ True, False],\n",
       "        [ True,  True]])]"
      ]
     },
     "execution_count": 118,
     "metadata": {},
     "output_type": "execute_result"
    }
   ],
   "source": [
    "[np.logical_and(*img) for img in itertools.combinations(x,2)]"
   ]
  },
  {
   "cell_type": "code",
   "execution_count": 175,
   "id": "550b8757",
   "metadata": {},
   "outputs": [],
   "source": [
    "arr = np.array([\n",
    "    [1, 1, 1, 1, 1, 1, 1, 1, 1, 1, 1, 1, 1],\n",
    "    [1, 1, 1, 1, 1, 1, 0, 1, 1, 1, 1, 1, 1],\n",
    "    [1, 1, 1, 1, 1, 1, 1, 1, 1, 1, 1, 1, 1],\n",
    "    [1, 1, 1, 1, 1, 1, 1, 1, 1, 1, 1, 1, 1],\n",
    "    [1, 1, 1, 1, 1, 1, 1, 1, 1, 1, 1, 1, 1],\n",
    "    [1, 1, 1, 1, 1, 1, 1, 1, 1, 1, 1, 1, 1],\n",
    "    [1, 1, 1, 1, 1, 1, 1, 1, 1, 1, 1, 1, 1],\n",
    "    [1, 1, 1, 1, 1, 1, 1, 1, 1, 1, 1, 1, 1],\n",
    "    [1, 1, 1, 1, 1, 1, 1, 1, 1, 1, 1, 1, 1],\n",
    "    [1, 1, 1, 1, 1, 1, 1, 1, 1, 1, 1, 1, 1],\n",
    "    [1, 1, 1, 1, 1, 1, 1, 1, 1, 1, 1, 1, 1],\n",
    "    [1, 1, 1, 1, 1, 1, 1, 1, 1, 1, 1, 1, 1],\n",
    "    [1, 1, 1, 1, 1, 1, 1, 1, 1, 1, 1, 1, 1]\n",
    "])\n",
    "\n",
    "arr2 = np.array([\n",
    "    [0, 0, 0, 0, 0, 0, 0, 0, 0, 0, 0, 0, 0],\n",
    "    [0, 1, 1, 1, 1, 1, 0, 0, 1, 1, 1, 1, 0],\n",
    "    [0, 1, 1, 1, 1, 1, 0, 0, 1, 1, 1, 1, 0],\n",
    "    [0, 1, 1, 1, 1, 1, 1, 1, 1, 1, 1, 1, 0],\n",
    "    [0, 1, 1, 1, 1, 1, 1, 1, 1, 1, 1, 1, 0],\n",
    "    [0, 1, 1, 1, 1, 1, 1, 1, 1, 1, 1, 1, 0],\n",
    "    [0, 1, 1, 0, 0, 0, 1, 1, 1, 1, 1, 1, 0],\n",
    "    [0, 1, 1, 0, 0, 0, 1, 1, 1, 1, 1, 1, 0],\n",
    "    [0, 1, 1, 0, 0, 0, 1, 1, 1, 1, 1, 1, 0],\n",
    "    [0, 1, 1, 1, 1, 1, 1, 1, 1, 1, 0, 0, 0],\n",
    "    [0, 1, 1, 1, 1, 1, 1, 1, 1, 1, 0, 0, 0],\n",
    "    [0, 0, 0, 0, 0, 0, 0, 0, 0, 0, 0, 0, 0]\n",
    "    \n",
    "])"
   ]
  },
  {
   "cell_type": "code",
   "execution_count": 200,
   "id": "f5d29f56",
   "metadata": {},
   "outputs": [],
   "source": [
    "def dilate(img, n=1):\n",
    "     \n",
    "    return np.logical_not(erode(np.logical_not(img), n, padding='edge'))\n",
    "\n",
    "\n",
    "def opening(img, n=1):\n",
    "\n",
    "    return dilate(erode(img, n), n)\n",
    "\n",
    "\n",
    "def closing(img, n=1):\n",
    "    \n",
    "    return np.logical_not(opening(np.logical_not(img), n))"
   ]
  },
  {
   "cell_type": "code",
   "execution_count": 136,
   "id": "b8420106",
   "metadata": {},
   "outputs": [
    {
     "data": {
      "text/plain": [
       "array([[0, 0, 0, 0, 0, 0, 0, 0, 0, 0, 0, 0, 0],\n",
       "       [0, 1, 1, 1, 1, 0, 0, 0, 1, 1, 1, 1, 0],\n",
       "       [0, 1, 1, 1, 1, 0, 0, 0, 1, 1, 1, 1, 0],\n",
       "       [0, 1, 1, 1, 1, 1, 1, 1, 1, 1, 1, 1, 0],\n",
       "       [0, 1, 1, 1, 1, 1, 1, 1, 1, 1, 1, 1, 0],\n",
       "       [0, 1, 1, 1, 1, 1, 1, 1, 1, 1, 1, 1, 0],\n",
       "       [0, 1, 1, 1, 1, 1, 1, 1, 1, 1, 1, 1, 0],\n",
       "       [0, 1, 1, 1, 1, 1, 1, 1, 1, 1, 1, 1, 0],\n",
       "       [0, 1, 1, 1, 1, 1, 1, 1, 1, 1, 1, 1, 0],\n",
       "       [0, 1, 1, 1, 1, 1, 1, 1, 1, 1, 1, 1, 0],\n",
       "       [0, 1, 1, 1, 1, 1, 1, 1, 1, 1, 1, 1, 0],\n",
       "       [0, 1, 1, 1, 1, 1, 1, 1, 1, 1, 1, 1, 0],\n",
       "       [0, 0, 0, 0, 0, 0, 0, 0, 0, 0, 0, 0, 0]])"
      ]
     },
     "execution_count": 136,
     "metadata": {},
     "output_type": "execute_result"
    }
   ],
   "source": [
    "def erode(img, n=1):\n",
    "    \n",
    "    for _ in range(n):\n",
    "        img = np.all(np.all(\n",
    "                np.lib.stride_tricks.sliding_window_view(\n",
    "                    np.pad(img, 2, mode='constant'), \n",
    "                    (3,3)\n",
    "                )\n",
    "            ,axis=2),axis=2)\n",
    "        \n",
    "    return img[1:-1,1:-1]\n",
    "\n",
    "erode(arr).astype(int)"
   ]
  },
  {
   "cell_type": "code",
   "execution_count": 137,
   "id": "17c714e2",
   "metadata": {},
   "outputs": [
    {
     "data": {
      "text/plain": [
       "array([[1, 1, 1, 1, 1, 1, 1, 1, 1, 1, 1, 1, 1],\n",
       "       [1, 1, 1, 1, 1, 1, 1, 1, 1, 1, 1, 1, 1],\n",
       "       [1, 1, 1, 1, 1, 1, 1, 1, 1, 1, 1, 1, 1],\n",
       "       [1, 1, 1, 1, 1, 1, 1, 1, 1, 1, 1, 1, 1],\n",
       "       [1, 1, 1, 1, 1, 1, 1, 1, 1, 1, 1, 1, 1],\n",
       "       [1, 1, 1, 1, 1, 1, 1, 1, 1, 1, 1, 1, 1],\n",
       "       [1, 1, 1, 1, 1, 1, 1, 1, 1, 1, 1, 1, 1],\n",
       "       [1, 1, 1, 1, 0, 1, 1, 1, 1, 1, 1, 1, 1],\n",
       "       [1, 1, 1, 1, 1, 1, 1, 1, 1, 1, 1, 1, 1],\n",
       "       [1, 1, 1, 1, 1, 1, 1, 1, 1, 1, 1, 1, 1],\n",
       "       [1, 1, 1, 1, 1, 1, 1, 1, 1, 1, 1, 0, 1],\n",
       "       [1, 1, 1, 1, 1, 1, 1, 1, 1, 1, 1, 1, 1]])"
      ]
     },
     "execution_count": 137,
     "metadata": {},
     "output_type": "execute_result"
    }
   ],
   "source": [
    "dilate(arr2).astype(int)"
   ]
  },
  {
   "cell_type": "code",
   "execution_count": 160,
   "id": "d4cb24c5",
   "metadata": {},
   "outputs": [
    {
     "data": {
      "text/plain": [
       "array([[0, 0, 0, 0, 0, 0, 0, 0, 0, 0, 0, 0, 0],\n",
       "       [0, 0, 0, 0, 0, 0, 0, 0, 0, 0, 0, 0, 0],\n",
       "       [0, 0, 1, 1, 1, 0, 0, 0, 0, 1, 1, 0, 0],\n",
       "       [0, 0, 1, 1, 1, 0, 0, 0, 0, 1, 1, 0, 0],\n",
       "       [0, 0, 1, 1, 1, 1, 1, 1, 1, 1, 1, 0, 0],\n",
       "       [0, 0, 0, 0, 0, 0, 0, 1, 1, 1, 1, 0, 0],\n",
       "       [0, 0, 0, 0, 0, 0, 0, 1, 1, 1, 1, 0, 0],\n",
       "       [0, 0, 0, 0, 0, 0, 0, 1, 1, 1, 1, 0, 0],\n",
       "       [0, 0, 0, 0, 0, 0, 0, 1, 1, 0, 0, 0, 0],\n",
       "       [0, 0, 0, 0, 0, 0, 0, 1, 1, 0, 0, 0, 0],\n",
       "       [0, 0, 0, 0, 0, 0, 0, 0, 0, 0, 0, 0, 0],\n",
       "       [0, 0, 0, 0, 0, 0, 0, 0, 0, 0, 0, 0, 0]])"
      ]
     },
     "execution_count": 160,
     "metadata": {},
     "output_type": "execute_result"
    }
   ],
   "source": [
    "np.array([\n",
    "    [np.all(pixel) for pixel in row] \n",
    "    for row in np.lib.stride_tricks.sliding_window_view(np.pad(arr2, 1, mode='constant', constant_values=(False,)), (3,3))\n",
    "]).astype(int) "
   ]
  },
  {
   "cell_type": "code",
   "execution_count": 199,
   "id": "6ba6d2df",
   "metadata": {},
   "outputs": [],
   "source": [
    "def erode(img, n=1, padding='constant'):\n",
    "    for _ in range(n):\n",
    "        img = np.array([\n",
    "            [np.all(pixel) for pixel in row] \n",
    "            for row \\\n",
    "            in np.lib.stride_tricks.sliding_window_view(\n",
    "                np.pad(img, 1, mode=padding), \n",
    "                (3,3)\n",
    "            )\n",
    "        ])\n",
    "        \n",
    "    return img"
   ]
  },
  {
   "cell_type": "code",
   "execution_count": 201,
   "id": "0eb5b1d8",
   "metadata": {},
   "outputs": [
    {
     "data": {
      "text/plain": [
       "array([[0, 0, 0, 0, 0, 0, 0, 0, 0, 0, 0, 0, 0],\n",
       "       [0, 1, 1, 1, 1, 0, 0, 0, 1, 1, 1, 1, 0],\n",
       "       [0, 1, 1, 1, 1, 0, 0, 0, 1, 1, 1, 1, 0],\n",
       "       [0, 1, 1, 1, 1, 1, 1, 1, 1, 1, 1, 1, 0],\n",
       "       [0, 1, 1, 1, 1, 1, 1, 1, 1, 1, 1, 1, 0],\n",
       "       [0, 1, 1, 1, 1, 1, 1, 1, 1, 1, 1, 1, 0],\n",
       "       [0, 1, 1, 1, 1, 1, 1, 1, 1, 1, 1, 1, 0],\n",
       "       [0, 1, 1, 1, 1, 1, 1, 1, 1, 1, 1, 1, 0],\n",
       "       [0, 1, 1, 1, 1, 1, 1, 1, 1, 1, 1, 1, 0],\n",
       "       [0, 1, 1, 1, 1, 1, 1, 1, 1, 1, 1, 1, 0],\n",
       "       [0, 1, 1, 1, 1, 1, 1, 1, 1, 1, 1, 1, 0],\n",
       "       [0, 1, 1, 1, 1, 1, 1, 1, 1, 1, 1, 1, 0],\n",
       "       [0, 0, 0, 0, 0, 0, 0, 0, 0, 0, 0, 0, 0]])"
      ]
     },
     "execution_count": 201,
     "metadata": {},
     "output_type": "execute_result"
    }
   ],
   "source": [
    "erode(arr).astype(int)"
   ]
  },
  {
   "cell_type": "code",
   "execution_count": 202,
   "id": "2c96497d",
   "metadata": {},
   "outputs": [
    {
     "data": {
      "text/plain": [
       "array([[1, 1, 1, 1, 1, 1, 1, 1, 1, 1, 1, 1, 1],\n",
       "       [1, 1, 1, 1, 1, 1, 1, 1, 1, 1, 1, 1, 1],\n",
       "       [1, 1, 1, 1, 1, 1, 1, 1, 1, 1, 1, 1, 1],\n",
       "       [1, 1, 1, 1, 1, 1, 1, 1, 1, 1, 1, 1, 1],\n",
       "       [1, 1, 1, 1, 1, 1, 1, 1, 1, 1, 1, 1, 1],\n",
       "       [1, 1, 1, 1, 1, 1, 1, 1, 1, 1, 1, 1, 1],\n",
       "       [1, 1, 1, 1, 1, 1, 1, 1, 1, 1, 1, 1, 1],\n",
       "       [1, 1, 1, 1, 1, 1, 1, 1, 1, 1, 1, 1, 1],\n",
       "       [1, 1, 1, 1, 1, 1, 1, 1, 1, 1, 1, 1, 1],\n",
       "       [1, 1, 1, 1, 1, 1, 1, 1, 1, 1, 1, 1, 1],\n",
       "       [1, 1, 1, 1, 1, 1, 1, 1, 1, 1, 1, 1, 1],\n",
       "       [1, 1, 1, 1, 1, 1, 1, 1, 1, 1, 1, 1, 1],\n",
       "       [1, 1, 1, 1, 1, 1, 1, 1, 1, 1, 1, 1, 1]])"
      ]
     },
     "execution_count": 202,
     "metadata": {},
     "output_type": "execute_result"
    }
   ],
   "source": [
    "dilate(arr).astype(int)"
   ]
  },
  {
   "cell_type": "code",
   "execution_count": 203,
   "id": "61813678",
   "metadata": {},
   "outputs": [
    {
     "data": {
      "text/plain": [
       "array([[0, 0, 0, 0, 0, 0, 0, 0, 0, 0, 0, 0, 0],\n",
       "       [0, 0, 0, 0, 0, 0, 0, 0, 0, 0, 0, 0, 0],\n",
       "       [0, 0, 1, 1, 1, 0, 0, 0, 0, 1, 1, 0, 0],\n",
       "       [0, 0, 1, 1, 1, 0, 0, 0, 0, 1, 1, 0, 0],\n",
       "       [0, 0, 1, 1, 1, 1, 1, 1, 1, 1, 1, 0, 0],\n",
       "       [0, 0, 0, 0, 0, 0, 0, 1, 1, 1, 1, 0, 0],\n",
       "       [0, 0, 0, 0, 0, 0, 0, 1, 1, 1, 1, 0, 0],\n",
       "       [0, 0, 0, 0, 0, 0, 0, 1, 1, 1, 1, 0, 0],\n",
       "       [0, 0, 0, 0, 0, 0, 0, 1, 1, 0, 0, 0, 0],\n",
       "       [0, 0, 0, 0, 0, 0, 0, 1, 1, 0, 0, 0, 0],\n",
       "       [0, 0, 0, 0, 0, 0, 0, 0, 0, 0, 0, 0, 0],\n",
       "       [0, 0, 0, 0, 0, 0, 0, 0, 0, 0, 0, 0, 0]])"
      ]
     },
     "execution_count": 203,
     "metadata": {},
     "output_type": "execute_result"
    }
   ],
   "source": [
    "erode(arr2).astype(int)"
   ]
  },
  {
   "cell_type": "code",
   "execution_count": 204,
   "id": "e8de97c2",
   "metadata": {},
   "outputs": [
    {
     "data": {
      "text/plain": [
       "array([[1, 1, 1, 1, 1, 1, 1, 1, 1, 1, 1, 1, 1],\n",
       "       [1, 1, 1, 1, 1, 1, 1, 1, 1, 1, 1, 1, 1],\n",
       "       [1, 1, 1, 1, 1, 1, 1, 1, 1, 1, 1, 1, 1],\n",
       "       [1, 1, 1, 1, 1, 1, 1, 1, 1, 1, 1, 1, 1],\n",
       "       [1, 1, 1, 1, 1, 1, 1, 1, 1, 1, 1, 1, 1],\n",
       "       [1, 1, 1, 1, 1, 1, 1, 1, 1, 1, 1, 1, 1],\n",
       "       [1, 1, 1, 1, 1, 1, 1, 1, 1, 1, 1, 1, 1],\n",
       "       [1, 1, 1, 1, 0, 1, 1, 1, 1, 1, 1, 1, 1],\n",
       "       [1, 1, 1, 1, 1, 1, 1, 1, 1, 1, 1, 1, 1],\n",
       "       [1, 1, 1, 1, 1, 1, 1, 1, 1, 1, 1, 1, 1],\n",
       "       [1, 1, 1, 1, 1, 1, 1, 1, 1, 1, 1, 0, 0],\n",
       "       [1, 1, 1, 1, 1, 1, 1, 1, 1, 1, 1, 0, 0]])"
      ]
     },
     "execution_count": 204,
     "metadata": {},
     "output_type": "execute_result"
    }
   ],
   "source": [
    "dilate(arr2).astype(int)"
   ]
  },
  {
   "cell_type": "code",
   "execution_count": 189,
   "id": "275b0a0c",
   "metadata": {},
   "outputs": [
    {
     "data": {
      "text/plain": [
       "array([[1, 1, 1, 1, 1, 1, 1, 1, 1, 1, 1, 1, 1],\n",
       "       [1, 0, 0, 0, 0, 0, 1, 1, 0, 0, 0, 0, 1],\n",
       "       [1, 0, 0, 0, 0, 0, 1, 1, 0, 0, 0, 0, 1],\n",
       "       [1, 0, 0, 0, 0, 0, 0, 0, 0, 0, 0, 0, 1],\n",
       "       [1, 0, 0, 0, 0, 0, 0, 0, 0, 0, 0, 0, 1],\n",
       "       [1, 0, 0, 0, 0, 0, 0, 0, 0, 0, 0, 0, 1],\n",
       "       [1, 0, 0, 1, 1, 1, 0, 0, 0, 0, 0, 0, 1],\n",
       "       [1, 0, 0, 1, 1, 1, 0, 0, 0, 0, 0, 0, 1],\n",
       "       [1, 0, 0, 1, 1, 1, 0, 0, 0, 0, 0, 0, 1],\n",
       "       [1, 0, 0, 0, 0, 0, 0, 0, 0, 0, 1, 1, 1],\n",
       "       [1, 0, 0, 0, 0, 0, 0, 0, 0, 0, 1, 1, 1],\n",
       "       [1, 1, 1, 1, 1, 1, 1, 1, 1, 1, 1, 1, 1]])"
      ]
     },
     "execution_count": 189,
     "metadata": {},
     "output_type": "execute_result"
    }
   ],
   "source": [
    "1-arr2"
   ]
  },
  {
   "cell_type": "code",
   "execution_count": 198,
   "id": "8c0623e5",
   "metadata": {},
   "outputs": [
    {
     "data": {
      "text/plain": [
       "array([[0, 0, 0, 0, 0, 0, 0, 0, 0, 0, 0, 0, 0],\n",
       "       [0, 0, 0, 0, 0, 0, 0, 0, 0, 0, 0, 0, 0],\n",
       "       [0, 0, 0, 0, 0, 0, 0, 0, 0, 0, 0, 0, 0],\n",
       "       [0, 0, 0, 0, 0, 0, 0, 0, 0, 0, 0, 0, 0],\n",
       "       [0, 0, 0, 0, 0, 0, 0, 0, 0, 0, 0, 0, 0],\n",
       "       [0, 0, 0, 0, 0, 0, 0, 0, 0, 0, 0, 0, 0],\n",
       "       [0, 0, 0, 0, 0, 0, 0, 0, 0, 0, 0, 0, 0],\n",
       "       [0, 0, 0, 0, 1, 0, 0, 0, 0, 0, 0, 0, 0],\n",
       "       [0, 0, 0, 0, 0, 0, 0, 0, 0, 0, 0, 0, 0],\n",
       "       [0, 0, 0, 0, 0, 0, 0, 0, 0, 0, 0, 0, 0],\n",
       "       [0, 0, 0, 0, 0, 0, 0, 0, 0, 0, 0, 1, 1],\n",
       "       [0, 0, 0, 0, 0, 0, 0, 0, 0, 0, 0, 1, 1]])"
      ]
     },
     "execution_count": 198,
     "metadata": {},
     "output_type": "execute_result"
    }
   ],
   "source": [
    "erode(1-arr2).astype(int)"
   ]
  },
  {
   "cell_type": "code",
   "execution_count": null,
   "id": "63290aab",
   "metadata": {},
   "outputs": [],
   "source": []
  }
 ],
 "metadata": {
  "kernelspec": {
   "display_name": "Python 3 (ipykernel)",
   "language": "python",
   "name": "python3"
  },
  "language_info": {
   "codemirror_mode": {
    "name": "ipython",
    "version": 3
   },
   "file_extension": ".py",
   "mimetype": "text/x-python",
   "name": "python",
   "nbconvert_exporter": "python",
   "pygments_lexer": "ipython3",
   "version": "3.11.5"
  }
 },
 "nbformat": 4,
 "nbformat_minor": 5
}
